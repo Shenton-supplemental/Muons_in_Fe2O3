{
 "cells": [
  {
   "cell_type": "markdown",
   "metadata": {},
   "source": [
    "# Local Electronic Structure and Dynamics of Muon-Polaron Complexes in Fe$_2$O$_3$\n",
    "\n",
    "## Supplemental material: Muon sites as a function of Hubbard U\n",
    "\n",
    "M. H. Dehn$^{1, 2, 3}$ J. K. Shenton$^{4,*}$ D. J. Arseneau$^3$ W. A. MacFarlane$^{2, 3, 5}$ G.\n",
    "D. Morris$^3$ A. Maigné$^2$ N. A. Spaldin$^4$, and R. F. Kiefl$^{1, 2, 3}$\n",
    "\n",
    "\n",
    "$^1$Department of Physics and Astronomy, University of British Columbia, Vancouver, BC V6T 1Z1, Canada    \n",
    "$^2$Stewart Blusson Quantum Matter Institute, University of British Columbia, Vancouver, BC V6T 1Z4, Canada    \n",
    "$^3$<span style=\"font-variant:small-caps;\">Triumf</span>, Vancouver, BC V6T 2A3, Canada   \n",
    "$^4$Department of Materials, ETH Zurich, CH-8093 Zürich, Switzerland   \n",
    "$^5$Department of Chemistry, University of British Columbia, Vancouver, BC, V6T 1Z1, Canada    \n",
    "\n",
    "\n",
    "\n",
    "\n",
    "$^*$ For queries about the supplemental information in this notebook contact [J. Kane Shenton](mailto:john.shenton@mat.ethz.ch)."
   ]
  },
  {
   "cell_type": "markdown",
   "metadata": {},
   "source": [
    "## Summary\n",
    "\n",
    "In this notebook we look at how the predicted muon stopping site properties change with the value of the Hubbard $\\mathrm{U_{eff}}$ correction applied to the Fe $d$ states. For the results presented in the paper, we employed a the LDA exchange-correlation functional together with a Hubbard correction of $\\mathrm{U_{eff}}=4$ eV using the scheme of [Dudarev et al.](https://doi.org/10.1103/PhysRevB.57.1505) Here we explore $\\mathrm{U_{eff}}$ values in the range $3-6$ eV.\n",
    "\n",
    "We focus these tests on the charge-neutral sites (labelled C$^0_{\\{1,2,3,4\\}}$ in the paper) as we have several sites in which we can compare precession frequencies and relative energies in a straightforward manner.\n",
    "\n",
    "We find that the predicted precession frequencies vary systematically with $\\mathrm{U_{eff}}$ for all sites, changing by ~10MHz in the range of $\\mathrm{U_{eff}}$ explored. The ordering in frequencies, however, remains the same throughout. \n",
    "\n",
    "The spread in energies of the different muon-polaron configurations decreases with increasing $\\mathrm{U_{eff}}$. The energy ordering presented in the paper (consistent with our site assignment of the µSR signals) is maintained in the range: $\\mathrm{U_{eff}} = 3-5$ eV. For $\\mathrm{U_{eff}}=6$ eV, the C$^0_2$ site is found to be ~6 meV _lower_ in energy than the C$^0_1$ site rather than ~13 meV _higher_ in energy as presented in the paper. While a $\\mathrm{U_{eff}}=6$ eV is very likely too large for Fe$_2$O$_3$, this finding emphasises that the sites C$^0_1$ and C$^0_2$ are very close in energy, again consistent with the interpretation of the µSR signals. \n",
    "\n",
    "\n"
   ]
  },
  {
   "cell_type": "markdown",
   "metadata": {
    "ExecuteTime": {
     "end_time": "2020-08-13T09:44:59.518703Z",
     "start_time": "2020-08-13T09:44:59.509585Z"
    }
   },
   "source": [
    "The testing procedure was as follows for each value of $\\mathrm{U_{eff}} = {3,4,5,6}$ eV:\n",
    "\n",
    "1. Construct a copy of the sites found previously (C$^0_{\\{1,2,3,4\\}}$), with the unit cell scaled to the $\\mathrm{U_{eff}}$-specific cell of pristine Fe$_2$O$_3$.\n",
    "\n",
    "2. Fully relax the internal coordinates of all the ions in the cell. \n",
    "\n",
    "3. Run a single-point calculation to get the total energy and hyperfine tensor."
   ]
  },
  {
   "cell_type": "markdown",
   "metadata": {},
   "source": [
    "## Setup"
   ]
  },
  {
   "cell_type": "code",
   "execution_count": 1,
   "metadata": {
    "ExecuteTime": {
     "end_time": "2020-08-14T11:15:06.228294Z",
     "start_time": "2020-08-14T11:15:04.458876Z"
    }
   },
   "outputs": [],
   "source": [
    "# ASE version 3.19.1\n",
    "from ase.io import read\n",
    "\n",
    "# Numpy version 1.16.4\n",
    "import numpy as np\n",
    "\n",
    "# re version: 2.2.1\n",
    "import re\n",
    "\n",
    "# matplotlib version: 3.2.2\n",
    "import matplotlib.pyplot as plt\n",
    "import matplotlib as mpl\n",
    "mpl.style.use('seaborn-talk')\n",
    "\n",
    "%matplotlib inline"
   ]
  },
  {
   "cell_type": "markdown",
   "metadata": {},
   "source": [
    "In order to make the repository size manageable, we have compressed the VASP input and output files. In order to run the notebook, first decompress the file by running the cell below:"
   ]
  },
  {
   "cell_type": "code",
   "execution_count": 10,
   "metadata": {
    "ExecuteTime": {
     "end_time": "2020-08-14T11:16:55.117941Z",
     "start_time": "2020-08-14T11:16:51.462295Z"
    }
   },
   "outputs": [],
   "source": [
    "!gzip -dr ./convergence_tests/muon_sites_wrt_U"
   ]
  },
  {
   "cell_type": "code",
   "execution_count": 2,
   "metadata": {
    "ExecuteTime": {
     "end_time": "2020-08-14T11:15:08.076438Z",
     "start_time": "2020-08-14T11:15:08.052001Z"
    }
   },
   "outputs": [],
   "source": [
    "def get_hyperfine(outcar, natoms, muon_index=-1):\n",
    "    \"\"\"\n",
    "    Function to parse the vasp hyperfine tensor of the 'muon' from an OUTCAR file (final ionic step).\n",
    "    \n",
    "    Inputs:\n",
    "        outcar (string): path to OUTCAR file\n",
    "        natoms (int): total number of atoms in the cell\n",
    "        muon_index (int): python index of the muon (typically the last atom in the POSCAR so defaults to -1)\n",
    "    \n",
    "    It returns the \n",
    "    \"\"\"\n",
    "    \n",
    "\n",
    "    # muon gyromagnetic ratio:\n",
    "    gamma_mu = 851.616 / (2*np.pi) # MHz /T\n",
    "\n",
    "    re_totalspin  = re.compile(\"Total magnetic moment S\")\n",
    "\n",
    "    re_contact  = re.compile(\"Fermi contact \\(isotropic\\) hyperfine coupling parameter \\(MHz\\)\")\n",
    "    re_dipole   = re.compile(\"Dipolar hyperfine coupling parameters \\(MHz\\)\")\n",
    "\n",
    "    contacts = np.zeros(natoms)\n",
    "    dipole_tensors = np.zeros((natoms, 3, 3))\n",
    "\n",
    "    with open(outcar) as f:\n",
    "        for line in f:\n",
    "            if re_totalspin.search(line):\n",
    "                totalS = float(line.split()[-1])\n",
    "\n",
    "            if re_contact.search(line):\n",
    "                next(f) # -------------------------------------------------------------\n",
    "                next(f) #  ion      A_pw      A_1PS     A_1AE     A_1c      A_tot\n",
    "                next(f) # -------------------------------------------------------------\n",
    "\n",
    "                for i in range(natoms):\n",
    "                    A_tot = float(next(f).split()[-1]) # just take the total contact interaction\n",
    "                    contacts[i] = A_tot\n",
    "\n",
    "\n",
    "\n",
    "            if re_dipole.search(line):\n",
    "                next(f) # -------------------------------------------------------------\n",
    "                next(f) #    ion      A_xx      A_yy      A_zz      A_xy      A_xz      A_yz\n",
    "                next(f) # -------------------------------------------------------------\n",
    "\n",
    "                for i in range(natoms):\n",
    "                    A_dip = np.array((next(f).split())).astype(float)\n",
    "\n",
    "                    # diagonal:\n",
    "                    dipole_tensors[i][0][0] = A_dip[1]\n",
    "                    dipole_tensors[i][1][1] = A_dip[2]\n",
    "                    dipole_tensors[i][2][2] = A_dip[3]\n",
    "\n",
    "                    #off-diagonal\n",
    "                    dipole_tensors[i][0][1] = A_dip[4]\n",
    "                    dipole_tensors[i][1][0] = A_dip[4]\n",
    "\n",
    "                    dipole_tensors[i][0][2] = A_dip[5]\n",
    "                    dipole_tensors[i][2][0] = A_dip[5]\n",
    "\n",
    "                    dipole_tensors[i][1][2] = A_dip[6]\n",
    "                    dipole_tensors[i][2][1] = A_dip[6]\n",
    "\n",
    "    \n",
    "    A_c = contacts[muon_index] * gamma_mu\n",
    "    A_dip = dipole_tensors[muon_index] * gamma_mu\n",
    "        \n",
    "    A = A_dip + np.eye(3)*A_c\n",
    "    \n",
    "    # B-field\n",
    "    Bfield = 0.5 * A[2]\n",
    "    B_magnitude = np.linalg.norm(Bfield)\n",
    "\n",
    "    # z-direction\n",
    "    z = np.array([0,0,1])\n",
    "    # get new theta\n",
    "    theta = 180*np.arccos(np.array(Bfield).dot(z) / B_magnitude) / np.pi\n",
    "    if theta > 90:\n",
    "        theta = 180 - theta\n",
    "\n",
    "    # Store Results \n",
    "    res = {'A_c'         : A_c,\n",
    "           'A_dip'       : A_dip,\n",
    "           'A'           : A,\n",
    "           'Bfield'      : Bfield,\n",
    "           'B_magnitude' : B_magnitude,\n",
    "           'theta'       : theta}    \n",
    "    \n",
    "    return res\n",
    "    "
   ]
  },
  {
   "cell_type": "markdown",
   "metadata": {},
   "source": [
    "## Read in results"
   ]
  },
  {
   "cell_type": "code",
   "execution_count": 3,
   "metadata": {
    "ExecuteTime": {
     "end_time": "2020-08-14T11:15:12.021202Z",
     "start_time": "2020-08-14T11:15:08.429998Z"
    }
   },
   "outputs": [
    {
     "name": "stdout",
     "output_type": "stream",
     "text": [
      "\n",
      "\n",
      "Site: C1, Ueff = 3 eV\n",
      "Site: C1, Ueff = 4 eV\n",
      "Site: C1, Ueff = 5 eV\n",
      "Site: C1, Ueff = 6 eV\n",
      "\n",
      "\n",
      "Site: C2, Ueff = 3 eV\n",
      "Site: C2, Ueff = 4 eV\n",
      "Site: C2, Ueff = 5 eV\n",
      "Site: C2, Ueff = 6 eV\n",
      "\n",
      "\n",
      "Site: C3, Ueff = 3 eV\n",
      "Site: C3, Ueff = 4 eV\n",
      "Site: C3, Ueff = 5 eV\n",
      "Site: C3, Ueff = 6 eV\n",
      "\n",
      "\n",
      "Site: C4, Ueff = 3 eV\n",
      "Site: C4, Ueff = 4 eV\n",
      "Site: C4, Ueff = 5 eV\n",
      "Site: C4, Ueff = 6 eV\n"
     ]
    }
   ],
   "source": [
    "sites = range(1,5)\n",
    "Ueffs = range(3,7)\n",
    "\n",
    "muon_index = -1\n",
    "verbose = False\n",
    "\n",
    "results = {}\n",
    "\n",
    "# loop over sites\n",
    "for site in sites:\n",
    "    print(\"\\n\")\n",
    "    results[site] = {}\n",
    "    # loop over U values\n",
    "    for U in Ueffs:\n",
    "\n",
    "        directory = f'./convergence_tests/muon_sites_wrt_U/C{site}/ueff-{U:02d}/scf_hf'\n",
    "        outcar = directory + '/OUTCAR'\n",
    "\n",
    "        print(f\"Site: C{site}, Ueff = {U} eV\")\n",
    "        # read in OUTCAR as ASE atoms object\n",
    "        atoms = read(outcar, format='vasp-out')\n",
    "\n",
    "        # unit cell volume in Å^3\n",
    "        volume = atoms.get_volume()\n",
    "\n",
    "        #read in hyperfine tensor & related from OUTCAR\n",
    "        hf_results = get_hyperfine(outcar, natoms = len(atoms))\n",
    "        \n",
    "        # local magnetic moments    \n",
    "        mags = atoms.get_magnetic_moments()\n",
    "        femags = mags[:32]\n",
    "        most_magind, next_magind = np.argsort(abs(femags))[:2]\n",
    "\n",
    "\n",
    "        # vector from COM to muon\n",
    "        com = atoms.get_center_of_mass()\n",
    "        muon_pos = atoms.positions[-1]\n",
    "\n",
    "        vec = muon_pos - com\n",
    "\n",
    "        results[site][U] = {'hf'                : hf_results,\n",
    "                            'mags'              : mags,\n",
    "                            'most_polaron'      : most_magind,\n",
    "                            'next_most_polaron' : next_magind,\n",
    "                            'com2muon'          : vec,\n",
    "                            'volume'            : volume,\n",
    "                            'energy'            : atoms.get_potential_energy()}"
   ]
  },
  {
   "cell_type": "markdown",
   "metadata": {},
   "source": [
    "## Muon precession frequencies"
   ]
  },
  {
   "cell_type": "code",
   "execution_count": 4,
   "metadata": {
    "ExecuteTime": {
     "end_time": "2020-08-14T11:15:12.533621Z",
     "start_time": "2020-08-14T11:15:12.090471Z"
    }
   },
   "outputs": [
    {
     "data": {
      "image/png": "[encoded data removed]",
      "text/plain": [
       "<Figure size 864x576 with 1 Axes>"
      ]
     },
     "metadata": {
      "needs_background": "light"
     },
     "output_type": "display_data"
    }
   ],
   "source": [
    "sites = range(1,5)\n",
    "Ueffs = range(3,7)\n",
    "\n",
    "colors = ['C0', 'C1', 'C2', 'C3']\n",
    "markers = ['>', '^', 's', 'o']\n",
    "\n",
    "\n",
    "\n",
    "# plot\n",
    "fig, ax = plt.subplots(figsize=(12,8))\n",
    "\n",
    "for isite, site in enumerate(sites):\n",
    "    freqs = [results[site][U]['hf']['B_magnitude'] for U in Ueffs]\n",
    "    ax.plot(Ueffs, freqs,\n",
    "           marker = markers[isite],\n",
    "           color = colors[isite],\n",
    "           markersize = 12,\n",
    "           label = f\"C$^0_{site}$\")\n",
    "\n",
    "# Experimental values\n",
    "exp_C1 = 208.9\n",
    "exp_C2 = 222.1\n",
    "exp_C3 = 241.8\n",
    "\n",
    "ax.axhline(exp_C1, linestyle = '--', color=colors[0])\n",
    "ax.text(2.70, exp_C1+1, '$f_2$', color=colors[0], fontsize=18)\n",
    "ax.axhline(exp_C2, linestyle = '--', color=colors[1])\n",
    "ax.text(2.70, exp_C2+1, '$f_{3A}$', color=colors[1], fontsize=18)\n",
    "ax.axhline(exp_C3, linestyle = '--', color=colors[2])\n",
    "ax.text(2.70, exp_C3+1, '$f_{3B}$', color=colors[2], fontsize=18)\n",
    "\n",
    "ax.set_xlim([2.6,6.1])\n",
    "ax.set_ylim([200,275])\n",
    "ax.legend()\n",
    "ax.set_xlabel(r\"$\\mathrm{U_{eff}}$ (eV)\")\n",
    "ax.set_ylabel(\"Precession frequency (MHz)\");\n"
   ]
  },
  {
   "cell_type": "markdown",
   "metadata": {},
   "source": [
    "We find:\n",
    "\n",
    "1. A nearly linear increase in predicted precession frequency with increasing $\\mathrm{U_{eff}}$. \n",
    "2. The predicted precession frequencies remain separated by roughly the same amount for each value of $\\mathrm{U_{eff}}$. The ordering in precession frequencies remains constant for each value of $\\mathrm{U_{eff}}$.\n",
    "3. The magnitude of the precession frequencies change by ~ 10 MHz in the range of $\\mathrm{U_{eff}}$ values explored.\n",
    "\n",
    "\n",
    "Let's see if we can explain the increase in muon precession frequency based on the increase in local magnetic moments of Fe$_2$O$_3$ with increasing $\\mathrm{U_{eff}}$.\n"
   ]
  },
  {
   "cell_type": "markdown",
   "metadata": {},
   "source": [
    "## Magnetic moments"
   ]
  },
  {
   "cell_type": "code",
   "execution_count": 6,
   "metadata": {
    "ExecuteTime": {
     "end_time": "2020-08-14T11:16:07.519400Z",
     "start_time": "2020-08-14T11:16:07.290500Z"
    }
   },
   "outputs": [
    {
     "data": {
      "image/png": "[encoded data removed]",
      "text/plain": [
       "<Figure size 864x576 with 1 Axes>"
      ]
     },
     "metadata": {
      "needs_background": "light"
     },
     "output_type": "display_data"
    }
   ],
   "source": [
    "C1_mags = np.array([abs(results[1][U]['mags'][:32]).mean() for U in Ueffs])\n",
    "C2_mags = np.array([abs(results[2][U]['mags'][:32]).mean() for U in Ueffs])\n",
    "C3_mags = np.array([abs(results[3][U]['mags'][:32]).mean() for U in Ueffs])\n",
    "C4_mags = np.array([abs(results[4][U]['mags'][:32]).mean() for U in Ueffs])\n",
    "\n",
    "\n",
    "sites = range(2,5)\n",
    "Ueffs = range(3,7)\n",
    "\n",
    "colors = ['C0', 'C1', 'C2', 'C3']\n",
    "markers = ['>', '^', 's', 'o']\n",
    "\n",
    "\n",
    "\n",
    "# plot\n",
    "fig, ax = plt.subplots(figsize=(12,8))\n",
    "\n",
    "\n",
    "for isite, site_mags in enumerate([C1_mags, C2_mags, C3_mags, C4_mags]):\n",
    "    # plot\n",
    "    ax.plot(Ueffs, site_mags,\n",
    "           marker = markers[isite],\n",
    "           color = colors[isite],\n",
    "           markersize = 12,\n",
    "           label = f\"C$^0_{isite+1}$\")\n",
    "\n",
    "\n",
    "ax.legend()\n",
    "ax.set_xlabel(r\"$\\mathrm{U_{eff}}$ (eV)\")\n",
    "ax.set_ylabel(\"Mean abs. magnetic moment on Fe ions ($\\mu_B$)\");"
   ]
  },
  {
   "cell_type": "code",
   "execution_count": 7,
   "metadata": {
    "ExecuteTime": {
     "end_time": "2020-08-14T11:16:10.298515Z",
     "start_time": "2020-08-14T11:16:10.278681Z"
    }
   },
   "outputs": [
    {
     "name": "stdout",
     "output_type": "stream",
     "text": [
      "  C1    C2    C3    C4 \n",
      " 6.4   4.4   5.8   5.8 % change in freq.\n",
      " 7.2   7.2   7.1   7.2 % change in mag. moments\n",
      "\n",
      "\n",
      "Mean change in precession freq. across all sites: \n",
      " 5.6 %\n",
      "Mean change in local magnetic moments on the Fe ions:\n",
      " 7.2 %\n"
     ]
    }
   ],
   "source": [
    "# The percent change in frequency of each site when increasing Ueff from 3 to 6 eV\n",
    "deltaC1 = 100*(results[1][6]['hf']['B_magnitude'] - results[1][3]['hf']['B_magnitude']) / results[1][3]['hf']['B_magnitude']\n",
    "deltaC2 = 100*(results[2][6]['hf']['B_magnitude'] - results[2][3]['hf']['B_magnitude']) / results[2][3]['hf']['B_magnitude']\n",
    "deltaC3 = 100*(results[3][6]['hf']['B_magnitude'] - results[3][3]['hf']['B_magnitude']) / results[3][3]['hf']['B_magnitude']\n",
    "deltaC4 = 100*(results[3][6]['hf']['B_magnitude'] - results[3][3]['hf']['B_magnitude']) / results[3][3]['hf']['B_magnitude']\n",
    "\n",
    "\n",
    "# The percent change in mean local mag. moments on Fe of each muon site when increasing Ueff from 3 to 6 eV\n",
    "def get_mean_mag(isite, U):\n",
    "    \"\"\"\n",
    "    Just to make things look neater, we define a function to return the mean mag. moments.\n",
    "    \"\"\"\n",
    "    return abs(results[isite][U]['mags'][:32]).mean()\n",
    "    \n",
    "deltaC1_mags = 100*(get_mean_mag(1, 6) - get_mean_mag(1, 3)) / get_mean_mag(1, 3)\n",
    "deltaC2_mags = 100*(get_mean_mag(2, 6) - get_mean_mag(2, 3)) / get_mean_mag(2, 3)\n",
    "deltaC3_mags = 100*(get_mean_mag(3, 6) - get_mean_mag(3, 3)) / get_mean_mag(3, 3)\n",
    "deltaC4_mags = 100*(get_mean_mag(4, 6) - get_mean_mag(4, 3)) / get_mean_mag(4, 3)\n",
    "\n",
    "\n",
    "\n",
    "print(f\"  C1    C2    C3    C4 \")\n",
    "print(f\"{deltaC1:4.1f}  {deltaC2:4.1f}  {deltaC3:4.1f}  {deltaC4:4.1f} % change in freq.\")\n",
    "print(f\"{deltaC1_mags:4.1f}  {deltaC2_mags:4.1f}  {deltaC3_mags:4.1f}  {deltaC4_mags:4.1f} % change in mag. moments\")\n",
    "\n",
    "\n",
    "\n",
    "print(\"\\n\\nMean change in precession freq. across all sites: \")\n",
    "print(f\"{(deltaC1 +deltaC2 +deltaC3 + deltaC4) / 4:4.1f} %\")\n",
    "print(\"Mean change in local magnetic moments on the Fe ions:\")\n",
    "print(f\"{(deltaC1_mags +deltaC2_mags +deltaC3_mags + deltaC4_mags) / 4:4.1f} %\")\n"
   ]
  },
  {
   "cell_type": "markdown",
   "metadata": {
    "ExecuteTime": {
     "end_time": "2020-06-23T08:51:40.853869Z",
     "start_time": "2020-06-23T08:51:40.847794Z"
    }
   },
   "source": [
    "So the general tendency of $\\mathrm{U_{eff}}$ to increase the local mag. moments on the Fe ions is goes a long way to explaining the variation in predicted muon precession frequencies. The remaining variation might be due to structural changes$^*$ and changes in the distribution of the spin density in the muon's immediate neighbourhood (particularly the localisation of the polaron). \n",
    "\n",
    "\n",
    "$^*$In particular the unit cell volume increases with $\\mathrm{U_{eff}}$ in this range. An increase in volume effectively means the muons become further away from the magnetic ions and thus the increase in local field at the muon site is less than what might be expected from the increase in magnetic moments alone. "
   ]
  },
  {
   "cell_type": "markdown",
   "metadata": {},
   "source": [
    "## Site energies"
   ]
  },
  {
   "cell_type": "markdown",
   "metadata": {},
   "source": [
    "In the paper, we also present differences in energies of the charge neutral sites. The ordering (and to some extent the magnitudes) are consistent with frequency-based assignment of the sites and the observed temperature dependence of the µSR signals.\n",
    "\n",
    "Here we look at the sensitivity of such energy differences to the choice of $\\mathrm{U_{eff}}$. \n",
    "\n",
    "\n",
    "Note that energy differences for calculations with different $\\mathrm{U_{eff}}$ are not physically meaningful. Instead, what we plot below is, for each value of $\\mathrm{U_{eff}}$, the relative energy of the different muon sites."
   ]
  },
  {
   "cell_type": "code",
   "execution_count": 8,
   "metadata": {
    "ExecuteTime": {
     "end_time": "2020-08-14T11:16:16.351516Z",
     "start_time": "2020-08-14T11:16:16.184508Z"
    }
   },
   "outputs": [
    {
     "name": "stdout",
     "output_type": "stream",
     "text": [
      "\n",
      "Site: C2\n",
      "     U = 3    U = 4    U = 5    U = 6      eV\n",
      "dE =  24.2     12.8     11.9     -5.7     meV\n",
      "\n",
      "Site: C3\n",
      "     U = 3    U = 4    U = 5    U = 6      eV\n",
      "dE =  42.8     37.5     28.8     23.2     meV\n",
      "\n",
      "Site: C4\n",
      "     U = 3    U = 4    U = 5    U = 6      eV\n",
      "dE =  56.2     50.7     54.4     47.4     meV\n"
     ]
    },
    {
     "data": {
      "image/png": "[encoded data removed]",
      "text/plain": [
       "<Figure size 864x576 with 1 Axes>"
      ]
     },
     "metadata": {
      "needs_background": "light"
     },
     "output_type": "display_data"
    }
   ],
   "source": [
    "sites = range(2,5)\n",
    "Ueffs = range(3,7)\n",
    "\n",
    "colors = ['C0', 'C1', 'C2', 'C3']\n",
    "markers = ['>', '^', 's', 'o']\n",
    "\n",
    "# plot\n",
    "fig, ax = plt.subplots(figsize=(12,8))\n",
    "\n",
    "# Extract the energies for each site:\n",
    "C1_energies = np.array([results[1][U]['energy'] for U in Ueffs])\n",
    "C2_energies = np.array([results[2][U]['energy'] for U in Ueffs])\n",
    "C3_energies = np.array([results[3][U]['energy'] for U in Ueffs])\n",
    "C4_energies = np.array([results[4][U]['energy'] for U in Ueffs])\n",
    "\n",
    "\n",
    "# C1 will be the reference energy,\n",
    "# so plot a dashed horizontal line to represent this.\n",
    "ax.axhline(0,\n",
    "           linestyle='--',\n",
    "           color='C0',\n",
    "           linewidth = 3,\n",
    "           label = 'C$^0_1$')\n",
    "\n",
    "# Loop over sites C2, C3 and C4\n",
    "for isite, site in enumerate(sites):\n",
    "\n",
    "    #energies of site wrt those of C1, converting to meV with the factor of 1000\n",
    "    energies = 1000*(np.array([results[site][U]['energy'] for U in Ueffs]) - C1_energies)\n",
    "\n",
    "    # Print out the actual values for reference:\n",
    "    print(f\"\\nSite: C{site}\")\n",
    "    print(\"     U = 3    U = 4    U = 5    U = 6      eV\")\n",
    "    print(\"dE = {:5.1f}    {:5.1f}    {:5.1f}    {:5.1f}     meV\".format(*energies))\n",
    "    \n",
    "    # plot\n",
    "    ax.plot(Ueffs, energies,\n",
    "           marker = markers[isite+1],\n",
    "           color = colors[isite+1],\n",
    "           markersize = 12,\n",
    "           label = f\"C$^0_{site}$\")\n",
    "\n",
    "\n",
    "ax.legend()\n",
    "ax.set_xlabel(r\"$\\mathrm{U_{eff}}$ (eV)\")\n",
    "ax.set_ylabel(\"Energy difference wrt C$^0_1$ (meV)\");"
   ]
  },
  {
   "cell_type": "markdown",
   "metadata": {},
   "source": [
    "We find that:\n",
    "\n",
    "1. The energy ordering as found in the paper is maintained for the $\\mathrm{U_{eff}}$ values in the ~3-5 eV range. For $\\mathrm{U_{eff}}=6$ eV, we find that the C2 site is lower in energy than C1 by ~6 meV. \n",
    "2. The relative energies of the sites vary significantly over the range of $\\mathrm{U_{eff}}$ explored. The sites get closer in energy with increasing $\\mathrm{U_{eff}}$. "
   ]
  },
  {
   "cell_type": "markdown",
   "metadata": {},
   "source": [
    "## Unit cell volume"
   ]
  },
  {
   "cell_type": "markdown",
   "metadata": {},
   "source": [
    "Since the unit cell volume changes as a function of $\\mathrm{U_{eff}}$, for each calculation, the unit cell volume of pristine (no muon or polaron) Fe$_2$O$_3$, relaxed with that value of $\\mathrm{U_{eff}}$, was used. and the ionic positions were fully relaxed. Below we print out the volume of the cell for each case for ease of reference."
   ]
  },
  {
   "cell_type": "code",
   "execution_count": 9,
   "metadata": {
    "ExecuteTime": {
     "end_time": "2020-08-14T11:16:19.528211Z",
     "start_time": "2020-08-14T11:16:19.519234Z"
    }
   },
   "outputs": [
    {
     "name": "stdout",
     "output_type": "stream",
     "text": [
      "site:  2\n",
      "    765.8117 Å^3\n",
      "    771.1683 Å^3\n",
      "    774.8557 Å^3\n",
      "    777.1531 Å^3\n",
      "site:  3\n",
      "    765.8117 Å^3\n",
      "    771.1683 Å^3\n",
      "    774.8557 Å^3\n",
      "    777.1531 Å^3\n",
      "site:  4\n",
      "    765.8117 Å^3\n",
      "    771.1683 Å^3\n",
      "    774.8557 Å^3\n",
      "    777.1531 Å^3\n"
     ]
    }
   ],
   "source": [
    "for isite, site in enumerate(sites):\n",
    "    print('site: ', site)\n",
    "    for U in Ueffs:\n",
    "        V = results[site][U]['volume']\n",
    "        print(f\"{V:12.4f} Å^3\")"
   ]
  }
 ],
 "metadata": {
  "@webio": {
   "lastCommId": null,
   "lastKernelId": null
  },
  "kernelspec": {
   "display_name": "Python 3",
   "language": "python",
   "name": "python3"
  },
  "language_info": {
   "codemirror_mode": {
    "name": "ipython",
    "version": 3
   },
   "file_extension": ".py",
   "mimetype": "text/x-python",
   "name": "python",
   "nbconvert_exporter": "python",
   "pygments_lexer": "ipython3",
   "version": "3.7.3"
  },
  "toc": {
   "base_numbering": 1,
   "nav_menu": {},
   "number_sections": true,
   "sideBar": true,
   "skip_h1_title": false,
   "title_cell": "Table of Contents",
   "title_sidebar": "Contents",
   "toc_cell": false,
   "toc_position": {
    "height": "calc(100% - 180px)",
    "left": "10px",
    "top": "150px",
    "width": "344px"
   },
   "toc_section_display": true,
   "toc_window_display": true
  },
  "varInspector": {
   "cols": {
    "lenName": 16,
    "lenType": 16,
    "lenVar": 40
   },
   "kernels_config": {
    "python": {
     "delete_cmd_postfix": "",
     "delete_cmd_prefix": "del ",
     "library": "var_list.py",
     "varRefreshCmd": "print(var_dic_list())"
    },
    "r": {
     "delete_cmd_postfix": ") ",
     "delete_cmd_prefix": "rm(",
     "library": "var_list.r",
     "varRefreshCmd": "cat(var_dic_list()) "
    }
   },
   "types_to_exclude": [
    "module",
    "function",
    "builtin_function_or_method",
    "instance",
    "_Feature"
   ],
   "window_display": false
  }
 },
 "nbformat": 4,
 "nbformat_minor": 2
}
